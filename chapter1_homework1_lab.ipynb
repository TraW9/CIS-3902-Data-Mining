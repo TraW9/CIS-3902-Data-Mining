{
  "nbformat": 4,
  "nbformat_minor": 0,
  "metadata": {
    "anaconda-cloud": {},
    "celltoolbar": "Raw Cell Format",
    "kernelspec": {
      "display_name": "Python 3",
      "language": "python",
      "name": "python3"
    },
    "language_info": {
      "codemirror_mode": {
        "name": "ipython",
        "version": 3
      },
      "file_extension": ".py",
      "mimetype": "text/x-python",
      "name": "python",
      "nbconvert_exporter": "python",
      "pygments_lexer": "ipython3",
      "version": "3.7.4"
    },
    "colab": {
      "name": "Chapter-1-HW",
      "provenance": [],
      "include_colab_link": true
    }
  },
  "cells": [
    {
      "cell_type": "markdown",
      "metadata": {
        "id": "view-in-github",
        "colab_type": "text"
      },
      "source": [
        "<a href=\"https://colab.research.google.com/github/catawba-data-mining/CIS-3902-Data-Mining/blob/main/chapter1_homework1_lab.ipynb\" target=\"_parent\"><img src=\"https://colab.research.google.com/assets/colab-badge.svg\" alt=\"Open In Colab\"/></a>"
      ]
    },
    {
      "cell_type": "markdown",
      "metadata": {
        "id": "WfKm7jpAYc0z"
      },
      "source": [
        "DATA 8<br>\r\n",
        "1.3 Plotting the Classics<br><br>\r\n",
        "\r\n",
        "INSTRUCTIONS:  From Github, click on the COLAB link (blue) to open the file in COLAB.  Read and follow instructions in the Program once in Colab.  Complete the Homework Assignment at the end, then select File . . Download .ipynb. Save the file with yourlastname-Chapter-1-HW.ipynb and submit this file in the Chapter 1 Aassignment in Blackboard.\r\n",
        "\r\n",
        "In this example, we will explore statistics for two classic novels: The Adventures of Huckleberry Finn by Mark Twain, and Little Women by Louisa May Alcott. The text of any book can be read by a computer at great speed. Books published before 1923 are currently in the public domain, meaning that everyone has the right to copy or use the text in any way. Project Gutenberg is a website that publishes public domain books online. Using Python, we can load the text of these books directly from the web.<br><br>\r\n",
        "\r\n",
        "First we need to set up our environment and import a few packages and related modules:<br>\r\n",
        "a.  The Data 8 text uses a package called \"Data Science\" that provides useful functions.<br>\r\n",
        "b. Pandas for tabular data manipulation and analysis<br>\r\n",
        "c. NumPy for working with arrays<br>\r\n",
        "d. matplotlib for plotting<br>\r\n",
        "e. warnings to provide warning control<br>\r\n",
        "f. urllib (urlopen) to fetch urls<br>\r\n",
        "g. re for regular expression operations<br><br>\r\n",
        "\r\n",
        "STEP 1: Place your cursor (click) in the code cells and click on the triangle to the left of the code to execute (click Run Anyway on first code block if you get an authorization error).  Some code blocks will not display any output.  Some code blocks generate many messages!  You can clear these by clicking on the x where the messages are displayed.\r\n"
      ]
    },
    {
      "cell_type": "code",
      "metadata": {
        "id": "qMRvB-E1VuED"
      },
      "source": [
        "#STEP 1:  we need to install datascience first because it is not a typical package that comes with our programming environment\n",
        "#more information can be found here (optional reading https://jakevdp.github.io/blog/2017/12/05/installing-python-packages-from-jupyter/)\n",
        "#!pip install datascience\n",
        "# Install a pip package in the current Jupyter kernel\n",
        "import sys\n",
        "!{sys.executable} -m pip install datascience\n",
        "#\n",
        "#after this is executed you can click on the x (person changes to x when cursor is hovered) in order to clear messages"
      ],
      "execution_count": null,
      "outputs": []
    },
    {
      "cell_type": "code",
      "metadata": {
        "id": "xeJvjMBCVuEN"
      },
      "source": [
        "#STEP 1:  continued\n",
        "from datascience import *\n",
        "import numpy as np\n",
        "%matplotlib inline\n",
        "import matplotlib.pyplot as plots\n",
        "plots.style.use('fivethirtyeight')\n",
        "import warnings\n",
        "warnings.simplefilter(action=\"ignore\", category=FutureWarning)\n",
        "\n",
        "from urllib.request import urlopen \n",
        "import re\n",
        "def read_url(url): \n",
        "    return re.sub('\\\\s+', ' ', urlopen(url).read().decode())"
      ],
      "execution_count": null,
      "outputs": []
    },
    {
      "cell_type": "markdown",
      "metadata": {
        "id": "aaXJL7aVc3bR"
      },
      "source": [
        "STEP 2:  Running the code below will allow us to access https://www.inferentialthinking.com to read two books fast!  We are inputting Huck Finn and Little Women.  Remember to read the comments included with the code!  They start with \"#\"."
      ]
    },
    {
      "cell_type": "code",
      "metadata": {
        "id": "GPmrhg6SVuEO"
      },
      "source": [
        "# STEP 2:  Read two books, fast!\n",
        "# No output yet, this stores the text in the string variables\n",
        "# huck_finn_text, huck_finn_chapters, little_women_text and little_women_chapters\n",
        "\n",
        "huck_finn_url = 'https://www.inferentialthinking.com/data/huck_finn.txt'\n",
        "huck_finn_text = read_url(huck_finn_url)\n",
        "huck_finn_chapters = huck_finn_text.split('CHAPTER ')[44:]\n",
        "\n",
        "little_women_url = 'https://www.inferentialthinking.com/data/little_women.txt'\n",
        "little_women_text = read_url(little_women_url)\n",
        "little_women_chapters = little_women_text.split('CHAPTER ')[1:]"
      ],
      "execution_count": null,
      "outputs": []
    },
    {
      "cell_type": "code",
      "metadata": {
        "id": "UWeLRuoSVuEP"
      },
      "source": [
        "# STEP 2:  print the text in the variable huck_finn_chapters\r\n",
        "huck_finn_chapters"
      ],
      "execution_count": null,
      "outputs": []
    },
    {
      "cell_type": "code",
      "metadata": {
        "id": "9rw6ku3fVuES"
      },
      "source": [
        "# STEP 2:  Create a table to display huck_finn_chapters in a more desirable format\r\n",
        "Table().with_column('Chapters', huck_finn_chapters)"
      ],
      "execution_count": null,
      "outputs": []
    },
    {
      "cell_type": "markdown",
      "metadata": {
        "id": "6BOOWkZdeqqT"
      },
      "source": [
        "STEP 3:  Time to explore!  Think about what we have already done with a few lines of code!  Run the code blocks below (read the comments) and learn more about the text in Huck Finn!"
      ]
    },
    {
      "cell_type": "code",
      "metadata": {
        "id": "5T-KQ2vWVuEU"
      },
      "source": [
        "# STEP 3:  this creates an array of counts for the number of times the name \"Tom\" appears in each of the chapters.\r\n",
        "np.char.count(huck_finn_chapters, 'Tom')"
      ],
      "execution_count": null,
      "outputs": []
    },
    {
      "cell_type": "code",
      "metadata": {
        "id": "aN0l6u7KVuEW"
      },
      "source": [
        "# STEP 3:  this creates an array of counts for the number of times the name \"Jim\" appears in each of the chapters.\r\n",
        "np.char.count(huck_finn_chapters, 'Jim')"
      ],
      "execution_count": null,
      "outputs": []
    },
    {
      "cell_type": "code",
      "metadata": {
        "id": "OElhw7mMVuEY"
      },
      "source": [
        "# STEP 3:  Let's display this information in a more user friendly manner.  \n",
        "counts = Table().with_columns([\n",
        "    'Tom', np.char.count(huck_finn_chapters, 'Tom'),\n",
        "    'Jim', np.char.count(huck_finn_chapters, 'Jim'),\n",
        "    'Huck', np.char.count(huck_finn_chapters, 'Huck'),\n",
        "])\n",
        "counts"
      ],
      "execution_count": null,
      "outputs": []
    },
    {
      "cell_type": "markdown",
      "metadata": {
        "id": "-eax0yFsf5QI"
      },
      "source": [
        "STEP 4:  We can do better than a simple table.  How about a plot that shows how the counts or name mentions accumulate over the course of the book?\r\n",
        "Click and run the code blocks associated with STEP 4 and marvel at how incredibly cool Python is!"
      ]
    },
    {
      "cell_type": "code",
      "metadata": {
        "id": "T11oxu33VuEe"
      },
      "source": [
        "# STEP 4:  Remember, we have already counted how many times the names Jim, Tom, and Huck appear in each chapter.\n",
        "# This information is stored in the \"counts\".\n",
        "\n",
        "# In the code, we will plot the cumulative counts:\n",
        "# how many times in Chapter 1, how many times in Chapters 1 and 2, and so on.\n",
        "\n",
        "cum_counts = counts.cumsum().with_column('Chapter', np.arange(1, 44, 1))\n",
        "cum_counts.plot(column_for_xticks=3)\n",
        "plots.title('Cumulative Number of Times Name Appears');"
      ],
      "execution_count": null,
      "outputs": []
    },
    {
      "cell_type": "markdown",
      "metadata": {
        "id": "aoxsbX91hCbq"
      },
      "source": [
        "STEP 5:  You know what is next!  We have Little Women ready to go - we have already read the text and we will run similar code on this classic. In order to condense the instructions, we are labeling all of the code for Little Women as \"STEP 5\"."
      ]
    },
    {
      "cell_type": "code",
      "metadata": {
        "id": "ZSPgijCEVuEf"
      },
      "source": [
        "# STEP 5: The chapters of Little Women\n",
        "\n",
        "Table().with_column('Chapters', little_women_chapters)"
      ],
      "execution_count": null,
      "outputs": []
    },
    {
      "cell_type": "code",
      "metadata": {
        "id": "MwofJGRWVuEg"
      },
      "source": [
        "# STEP 5: Counts of names in the chapters of Little Women\n",
        "\n",
        "people = ['Amy', 'Beth', 'Jo', 'Laurie', 'Meg']\n",
        "people_counts = {pp: np.char.count(little_women_chapters, pp) for pp in people}\n",
        "\n",
        "counts = Table().with_columns([\n",
        "        'Amy', people_counts['Amy'],\n",
        "        'Beth', people_counts['Beth'],\n",
        "        'Jo', people_counts['Jo'],\n",
        "        'Laurie', people_counts['Laurie'],\n",
        "        'Meg', people_counts['Meg']\n",
        "    ])"
      ],
      "execution_count": null,
      "outputs": []
    },
    {
      "cell_type": "code",
      "metadata": {
        "id": "7dXy03SSVuEh"
      },
      "source": [
        "# STEP 5: Plot the cumulative counts\n",
        "\n",
        "cum_counts = counts.cumsum().with_column('Chapter', np.arange(1, 48, 1))\n",
        "cum_counts.plot(column_for_xticks=5)\n",
        "plots.title('Cumulative Number of Times Name Appears');"
      ],
      "execution_count": null,
      "outputs": []
    },
    {
      "cell_type": "markdown",
      "metadata": {
        "id": "wrqLRg0shjJd"
      },
      "source": [
        "STEP 6:  Now we are going to count the number of characters in each chapter of the books that we are analyzing in order to gain insight into the \"length\" of the chapters.  Our last plot will show the number of periods in each chapter and we compare Huck Finn and Little Women.  Periods equal sentences . . ."
      ]
    },
    {
      "cell_type": "code",
      "metadata": {
        "id": "KdlQsEuEVuEi"
      },
      "source": [
        "# STEP 6:  In each chapter, count the number of all characters;\n",
        "# call this the \"length\" of the chapter.\n",
        "# Also count the number of periods.\n",
        "\n",
        "chars_periods_hf = Table().with_columns([\n",
        "        'HF Chapter Length', [len(s) for s in huck_finn_chapters],\n",
        "        'Number of Periods', np.char.count(huck_finn_chapters, '.')\n",
        "    ])\n",
        "chars_periods_lw = Table().with_columns([\n",
        "        'LW Chapter Length', [len(s) for s in little_women_chapters],\n",
        "        'Number of Periods', np.char.count(little_women_chapters, '.')\n",
        "    ])"
      ],
      "execution_count": null,
      "outputs": []
    },
    {
      "cell_type": "code",
      "metadata": {
        "id": "6JbbP_onVuEi"
      },
      "source": [
        "# STEP 6:  The counts for Huckleberry Finn\n",
        "\n",
        "chars_periods_hf"
      ],
      "execution_count": null,
      "outputs": []
    },
    {
      "cell_type": "code",
      "metadata": {
        "id": "agQPHhRxVuEl"
      },
      "source": [
        "# STEP 6:  The counts for Little Women\n",
        "\n",
        "chars_periods_lw"
      ],
      "execution_count": null,
      "outputs": []
    },
    {
      "cell_type": "code",
      "metadata": {
        "id": "5dAy1PQwVuEt"
      },
      "source": [
        "# STEP 6:  Final plot - let's compare the number of periods in Huck Finn and Little Women\n",
        "plots.figure(figsize=(10,10))\n",
        "plots.scatter(chars_periods_hf[1], chars_periods_hf[0], color='darkblue')\n",
        "plots.scatter(chars_periods_lw[1], chars_periods_lw[0], color='gold')\n",
        "plots.xlabel('Number of periods in chapter')\n",
        "plots.ylabel('Number of characters in chapter');"
      ],
      "execution_count": null,
      "outputs": []
    },
    {
      "cell_type": "markdown",
      "metadata": {
        "id": "SKgh5PSQBI5m"
      },
      "source": [
        "<h1>Homework:  Enter code for the steps below, select File . . . Download .ipynb (downloads to your local drive) and name your file yourlastname-Chapter-1-HW.ipynb, submit this file in Blackboard."
      ]
    },
    {
      "cell_type": "code",
      "metadata": {
        "id": "Ar6vfvhgVuEt"
      },
      "source": [
        "# HW STEP 1:  Input the Text (Insectivorous Plants by Charles Darwin)\r\n",
        "# No output yet, this stores the text in the string variables\r\n",
        "# use darwin in place of the other book names\r\n",
        "# the URL is http://www.gutenberg.org/cache/epub/5765/pg5765.txt\r\n",
        "# specify the Chapter argument as 'CHAPTER ' \r\n",
        "# be sure to include the space after the word Chapter \r\n",
        "darwin_url = 'http://www.gutenberg.org/cache/epub/5765/pg5765.txt'\n",
        "darwin_text = read_url(darwin_url)\n",
        "darwin_chapters = darwin_text.split('CHAPTER ')[19:]\n"
      ],
      "execution_count": null,
      "outputs": []
    },
    {
      "cell_type": "code",
      "metadata": {
        "id": "asZgDvfUssvz"
      },
      "source": [
        "# HW STEP 2: add the code to print the text in the variable darwin_chapters (use the example above)\r\n"
      ],
      "execution_count": null,
      "outputs": []
    },
    {
      "cell_type": "code",
      "metadata": {
        "id": "ZXtuVO_EuJMw"
      },
      "source": [
        "# HW STEP 3: add the code to create a table to display darwin_chapters in a more desirable format\r\n"
      ],
      "execution_count": null,
      "outputs": []
    },
    {
      "cell_type": "code",
      "metadata": {
        "id": "8F38rgzPuT0a"
      },
      "source": [
        "# HW STEP 4: Run the code to make counts of terms in the chapters of Insectivorous Plants\r\n",
        "# Start with using the terms insect, leaf, flower, plant, and rabbit\r\n",
        "\r\n",
        "# note the number of lines +1\r\n",
        "# (19) lines which will be used when charting the cumulative counts\r\n",
        "terms = ['insect', 'leaf', 'flower', 'plant', 'rabbit']\r\n",
        "term_counts = {this_term: np.char.count(darwin_chapters, this_term) for this_term in terms}\r\n",
        "counts = Table().with_columns([\r\n",
        "'insect', term_counts['insect'],\r\n",
        "'leaf', term_counts['leaf'],\r\n",
        "'flower', term_counts['flower'],\r\n",
        "'plant', term_counts['plant'],\r\n",
        "'rabbit', term_counts['rabbit']\r\n",
      "])\r\n",
      "\r\n",
      "counts\r\n"
      ],
      "execution_count": null,
      "outputs": []
    },
    {
      "cell_type": "code",
      "metadata": {
        "id": "Cgi5nel3v8Vi"
      },
      "source": [
        "# HW STEP 5: Run code to plot the cumulative counts (you may need to \r\n",
        "# use 36 for the number of chapters)\r\n",
        "cum_counts = counts.cumsum().with_column('Chapter', np.arange(0, 36, 1))\r\n",
        "cum_counts.plot(column_for_xticks=5)\r\n",
        "plots.title('Cumulative Number of Times Term Appears');\r\n",
        "\r\n",
        "# Now, go back to steps 4 and 5 and replace the term rabbit with another word such as spider and run the code again."
      ],
      "execution_count": null,
      "outputs": []
    }
  ]
}
