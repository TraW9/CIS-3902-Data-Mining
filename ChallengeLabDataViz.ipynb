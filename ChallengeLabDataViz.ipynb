{
 "cells": [
  {
   "cell_type": "markdown",
   "metadata": {},
   "source": [
    "# Challenge Exercise\n",
    "## Your Name(s)\n",
    "\n",
    "### Using the Boston Building and Property Violations Dataset showing a variety of code violations, perform exploratory data analysis and document what you learn.\n",
    "### To learn more about the metadata visit: <a href=\"https://data.boston.gov/dataset/building-and-property-violations1/resource/800a2663-1d6a-46e7-9356-bedb70f5332c\">Boston Building and Property Violations</a><br>"
   ]
  },
  {
   "cell_type": "code",
   "execution_count": 26,
   "metadata": {},
   "outputs": [],
   "source": [
    "# import statements\n",
    "import pandas as pd\n",
    "import seaborn as sns"
   ]
  },
  {
   "cell_type": "code",
   "execution_count": 27,
   "metadata": {},
   "outputs": [],
   "source": [
    "# create a variable to store the url for the data ingest\n",
    "urltodata = \"https://data.boston.gov/dataset/705244a6-70a6-4ff8-ab8e-56441aff18e7/resource/800a2663-1d6a-46e7-9356-bedb70f5332c/download/tmpfbdp9ex7.csv\""
   ]
  },
  {
   "cell_type": "code",
   "execution_count": 28,
   "metadata": {},
   "outputs": [],
   "source": [
    "# read the data using the url into a pandas dataframe\n",
    "bostondata = pd.read_csv(csvdata)"
   ]
  },
  {
   "cell_type": "code",
   "execution_count": 30,
   "metadata": {},
   "outputs": [
    {
     "data": {
      "text/html": [
       "<div>\n",
       "<style scoped>\n",
       "    .dataframe tbody tr th:only-of-type {\n",
       "        vertical-align: middle;\n",
       "    }\n",
       "\n",
       "    .dataframe tbody tr th {\n",
       "        vertical-align: top;\n",
       "    }\n",
       "\n",
       "    .dataframe thead th {\n",
       "        text-align: right;\n",
       "    }\n",
       "</style>\n",
       "<table border=\"1\" class=\"dataframe\">\n",
       "  <thead>\n",
       "    <tr style=\"text-align: right;\">\n",
       "      <th></th>\n",
       "      <th>ticket_no</th>\n",
       "      <th>status_dttm</th>\n",
       "      <th>status</th>\n",
       "      <th>code</th>\n",
       "      <th>value</th>\n",
       "      <th>description</th>\n",
       "      <th>stno</th>\n",
       "      <th>sthigh</th>\n",
       "      <th>street</th>\n",
       "      <th>suffix</th>\n",
       "      <th>city</th>\n",
       "      <th>state</th>\n",
       "      <th>zip</th>\n",
       "      <th>sam_id</th>\n",
       "      <th>latitude</th>\n",
       "      <th>longitude</th>\n",
       "      <th>location</th>\n",
       "    </tr>\n",
       "  </thead>\n",
       "  <tbody>\n",
       "    <tr>\n",
       "      <th>0</th>\n",
       "      <td>V596606</td>\n",
       "      <td>2022-01-26 08:58:51</td>\n",
       "      <td>Open</td>\n",
       "      <td>102.8</td>\n",
       "      <td>NaN</td>\n",
       "      <td>Maintenance</td>\n",
       "      <td>8</td>\n",
       "      <td>NaN</td>\n",
       "      <td>Faunce</td>\n",
       "      <td>RD</td>\n",
       "      <td>Mattapan</td>\n",
       "      <td>MA</td>\n",
       "      <td>02126</td>\n",
       "      <td>56744</td>\n",
       "      <td>42.271040</td>\n",
       "      <td>-71.091310</td>\n",
       "      <td>(42.271039999637345, -71.09131000165604)</td>\n",
       "    </tr>\n",
       "    <tr>\n",
       "      <th>1</th>\n",
       "      <td>V596381</td>\n",
       "      <td>2022-01-24 11:24:34</td>\n",
       "      <td>Open</td>\n",
       "      <td>3307.1</td>\n",
       "      <td>NaN</td>\n",
       "      <td>Protection of Adj. Property</td>\n",
       "      <td>579</td>\n",
       "      <td>NaN</td>\n",
       "      <td>Bennington</td>\n",
       "      <td>ST</td>\n",
       "      <td>East Boston</td>\n",
       "      <td>MA</td>\n",
       "      <td>02128</td>\n",
       "      <td>14800</td>\n",
       "      <td>42.382608</td>\n",
       "      <td>-71.017793</td>\n",
       "      <td>(42.38260800024299, -71.01779300134898)</td>\n",
       "    </tr>\n",
       "    <tr>\n",
       "      <th>2</th>\n",
       "      <td>V596202</td>\n",
       "      <td>2022-01-21 12:55:35</td>\n",
       "      <td>Open</td>\n",
       "      <td>105.1</td>\n",
       "      <td>NaN</td>\n",
       "      <td>Failure to Obtain Permit</td>\n",
       "      <td>35</td>\n",
       "      <td>37</td>\n",
       "      <td>Suncrest</td>\n",
       "      <td>RD</td>\n",
       "      <td>Mattapan</td>\n",
       "      <td>MA</td>\n",
       "      <td>02126</td>\n",
       "      <td>132603</td>\n",
       "      <td>42.265358</td>\n",
       "      <td>-71.101490</td>\n",
       "      <td>(42.26535800032978, -71.10149000149552)</td>\n",
       "    </tr>\n",
       "    <tr>\n",
       "      <th>3</th>\n",
       "      <td>V596199</td>\n",
       "      <td>2022-01-21 12:43:27</td>\n",
       "      <td>Open</td>\n",
       "      <td>105.1</td>\n",
       "      <td>NaN</td>\n",
       "      <td>Failure to Obtain Permit</td>\n",
       "      <td>17</td>\n",
       "      <td>NaN</td>\n",
       "      <td>Willow</td>\n",
       "      <td>ST</td>\n",
       "      <td>Boston</td>\n",
       "      <td>MA</td>\n",
       "      <td>02108</td>\n",
       "      <td>356512</td>\n",
       "      <td>42.357890</td>\n",
       "      <td>-71.068380</td>\n",
       "      <td>(42.35789000000448, -71.06838000123328)</td>\n",
       "    </tr>\n",
       "    <tr>\n",
       "      <th>4</th>\n",
       "      <td>V596179</td>\n",
       "      <td>2022-01-21 10:45:37</td>\n",
       "      <td>Open</td>\n",
       "      <td>1001.3.2</td>\n",
       "      <td>NaN</td>\n",
       "      <td>Testing &amp; Certification</td>\n",
       "      <td>37</td>\n",
       "      <td>NaN</td>\n",
       "      <td>Garden</td>\n",
       "      <td>ST</td>\n",
       "      <td>Boston</td>\n",
       "      <td>MA</td>\n",
       "      <td>02114</td>\n",
       "      <td>165544</td>\n",
       "      <td>42.360161</td>\n",
       "      <td>-71.066973</td>\n",
       "      <td>(42.36016074079137, -71.06697342469344)</td>\n",
       "    </tr>\n",
       "  </tbody>\n",
       "</table>\n",
       "</div>"
      ],
      "text/plain": [
       "  ticket_no          status_dttm status      code  value  \\\n",
       "0   V596606  2022-01-26 08:58:51   Open     102.8    NaN   \n",
       "1   V596381  2022-01-24 11:24:34   Open    3307.1    NaN   \n",
       "2   V596202  2022-01-21 12:55:35   Open     105.1    NaN   \n",
       "3   V596199  2022-01-21 12:43:27   Open     105.1    NaN   \n",
       "4   V596179  2022-01-21 10:45:37   Open  1001.3.2    NaN   \n",
       "\n",
       "                   description stno sthigh      street suffix         city  \\\n",
       "0                  Maintenance    8    NaN      Faunce     RD     Mattapan   \n",
       "1  Protection of Adj. Property  579    NaN  Bennington     ST  East Boston   \n",
       "2     Failure to Obtain Permit   35     37    Suncrest     RD     Mattapan   \n",
       "3     Failure to Obtain Permit   17    NaN      Willow     ST       Boston   \n",
       "4      Testing & Certification   37    NaN      Garden     ST       Boston   \n",
       "\n",
       "  state    zip  sam_id   latitude  longitude  \\\n",
       "0    MA  02126   56744  42.271040 -71.091310   \n",
       "1    MA  02128   14800  42.382608 -71.017793   \n",
       "2    MA  02126  132603  42.265358 -71.101490   \n",
       "3    MA  02108  356512  42.357890 -71.068380   \n",
       "4    MA  02114  165544  42.360161 -71.066973   \n",
       "\n",
       "                                   location  \n",
       "0  (42.271039999637345, -71.09131000165604)  \n",
       "1   (42.38260800024299, -71.01779300134898)  \n",
       "2   (42.26535800032978, -71.10149000149552)  \n",
       "3   (42.35789000000448, -71.06838000123328)  \n",
       "4   (42.36016074079137, -71.06697342469344)  "
      ]
     },
     "execution_count": 30,
     "metadata": {},
     "output_type": "execute_result"
    }
   ],
   "source": [
    "# examine the first few rows of data\n",
    "bostondata.head()"
   ]
  },
  {
   "cell_type": "markdown",
   "metadata": {},
   "source": [
    "### Complete the notebook by adding:\n",
    "1) information on nulls in data<br>\n",
    "2) statistical information on relevant columns<br>\n",
    "3) three different visualizations using seaborn<br>\n",
    "4) final markdown explaining what you have learned about the dataset from the statistical analysis and visualizations<br>\n",
    "\n",
    "NOTE:  you can add additional code and markdown blocks\n"
   ]
  },
  {
   "cell_type": "code",
   "execution_count": 39,
   "metadata": {},
   "outputs": [],
   "source": [
    "#1 information on nulls"
   ]
  },
  {
   "cell_type": "code",
   "execution_count": 40,
   "metadata": {},
   "outputs": [],
   "source": [
    "#2 statistical information"
   ]
  },
  {
   "cell_type": "code",
   "execution_count": 41,
   "metadata": {},
   "outputs": [],
   "source": [
    "#3 seaborn viz 1"
   ]
  },
  {
   "cell_type": "code",
   "execution_count": 42,
   "metadata": {},
   "outputs": [],
   "source": [
    "#4 seaborn viz 2"
   ]
  },
  {
   "cell_type": "code",
   "execution_count": 43,
   "metadata": {},
   "outputs": [],
   "source": [
    "#5 seaborn viz 3"
   ]
  },
  {
   "cell_type": "markdown",
   "metadata": {},
   "source": [
    "### What has been learned from Exploratory Data Analysis\n"
   ]
  },
  {
   "cell_type": "markdown",
   "metadata": {},
   "source": []
  }
 ],
 "metadata": {
  "kernelspec": {
   "display_name": "Python 3",
   "language": "python",
   "name": "python3"
  },
  "language_info": {
   "codemirror_mode": {
    "name": "ipython",
    "version": 3
   },
   "file_extension": ".py",
   "mimetype": "text/x-python",
   "name": "python",
   "nbconvert_exporter": "python",
   "pygments_lexer": "ipython3",
   "version": "3.6.5"
  }
 },
 "nbformat": 4,
 "nbformat_minor": 4
}
