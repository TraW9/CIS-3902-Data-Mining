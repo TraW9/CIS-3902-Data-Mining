{
  "cells": [
    {
      "cell_type": "markdown",
      "metadata": {
        "id": "view-in-github",
        "colab_type": "text"
      },
      "source": [
        "<a href=\"https://colab.research.google.com/github/catawba-data-mining/CIS-3902-Data-Mining/blob/main/ChallengeLabDataViz.ipynb\" target=\"_parent\"><img src=\"https://colab.research.google.com/assets/colab-badge.svg\" alt=\"Open In Colab\"/></a>"
      ]
    },
    {
      "cell_type": "markdown",
      "metadata": {
        "id": "NwhJOozykbV_"
      },
      "source": [
        "# Challenge Exercise\n",
        "## Your Name(s)\n",
        "\n",
        "### Using the Boston Building and Property Violations Dataset showing a variety of code violations, perform exploratory data analysis and document what you learn.\n",
        "### To learn more about the metadata visit: <a href=\"https://data.boston.gov/dataset/building-and-property-violations1/resource/800a2663-1d6a-46e7-9356-bedb70f5332c\">Boston Building and Property Violations</a><br>"
      ]
    },
    {
      "cell_type": "code",
      "execution_count": 81,
      "metadata": {
        "id": "j-aUsNf4kbWG"
      },
      "outputs": [],
      "source": [
        "# import statements\n",
        "import pandas as pd\n",
        "import seaborn as sns\n"
      ]
    },
    {
      "cell_type": "code",
      "execution_count": 55,
      "metadata": {
        "id": "awR7ZLEkkbWI"
      },
      "outputs": [],
      "source": [
        "# create a variable to store the url for the data ingest\n",
        "urltodata = \"https://data.boston.gov/dataset/705244a6-70a6-4ff8-ab8e-56441aff18e7/resource/800a2663-1d6a-46e7-9356-bedb70f5332c/download/tmpfbdp9ex7.csv\""
      ]
    },
    {
      "cell_type": "code",
      "execution_count": 56,
      "metadata": {
        "id": "JvaZSSeMkbWI"
      },
      "outputs": [],
      "source": [
        "# read the data using the url into a pandas dataframe\n",
        "bostondata = pd.read_csv(urltodata)"
      ]
    },
    {
      "cell_type": "code",
      "execution_count": 57,
      "metadata": {
        "colab": {
          "base_uri": "https://localhost:8080/",
          "height": 337
        },
        "id": "A4MPrtxnkbWJ",
        "outputId": "2b1b8b74-cdbc-409f-f84a-204083535092"
      },
      "outputs": [
        {
          "output_type": "execute_result",
          "data": {
            "text/html": [
              "\n",
              "  <div id=\"df-8a57a4ce-e407-4770-b9df-195a3a67bd53\">\n",
              "    <div class=\"colab-df-container\">\n",
              "      <div>\n",
              "<style scoped>\n",
              "    .dataframe tbody tr th:only-of-type {\n",
              "        vertical-align: middle;\n",
              "    }\n",
              "\n",
              "    .dataframe tbody tr th {\n",
              "        vertical-align: top;\n",
              "    }\n",
              "\n",
              "    .dataframe thead th {\n",
              "        text-align: right;\n",
              "    }\n",
              "</style>\n",
              "<table border=\"1\" class=\"dataframe\">\n",
              "  <thead>\n",
              "    <tr style=\"text-align: right;\">\n",
              "      <th></th>\n",
              "      <th>ticket_no</th>\n",
              "      <th>status_dttm</th>\n",
              "      <th>status</th>\n",
              "      <th>code</th>\n",
              "      <th>value</th>\n",
              "      <th>description</th>\n",
              "      <th>stno</th>\n",
              "      <th>sthigh</th>\n",
              "      <th>street</th>\n",
              "      <th>suffix</th>\n",
              "      <th>city</th>\n",
              "      <th>state</th>\n",
              "      <th>zip</th>\n",
              "      <th>sam_id</th>\n",
              "      <th>latitude</th>\n",
              "      <th>longitude</th>\n",
              "      <th>location</th>\n",
              "    </tr>\n",
              "  </thead>\n",
              "  <tbody>\n",
              "    <tr>\n",
              "      <th>0</th>\n",
              "      <td>V596913</td>\n",
              "      <td>2022-01-28 15:07:06</td>\n",
              "      <td>Open</td>\n",
              "      <td>104.6</td>\n",
              "      <td>NaN</td>\n",
              "      <td>Right of Entry</td>\n",
              "      <td>84</td>\n",
              "      <td>NaN</td>\n",
              "      <td>Margin</td>\n",
              "      <td>ST</td>\n",
              "      <td>Boston</td>\n",
              "      <td>MA</td>\n",
              "      <td>02113</td>\n",
              "      <td>89730</td>\n",
              "      <td>42.365620</td>\n",
              "      <td>-71.057010</td>\n",
              "      <td>(42.36562000046461, -71.05701000149027)</td>\n",
              "    </tr>\n",
              "    <tr>\n",
              "      <th>1</th>\n",
              "      <td>V596873</td>\n",
              "      <td>2022-01-28 09:44:57</td>\n",
              "      <td>Open</td>\n",
              "      <td>102.8</td>\n",
              "      <td>NaN</td>\n",
              "      <td>Maintenance</td>\n",
              "      <td>83</td>\n",
              "      <td>89</td>\n",
              "      <td>Devonshire</td>\n",
              "      <td>ST</td>\n",
              "      <td>Boston</td>\n",
              "      <td>MA</td>\n",
              "      <td>02108</td>\n",
              "      <td>340709</td>\n",
              "      <td>42.357710</td>\n",
              "      <td>-71.057506</td>\n",
              "      <td>(42.35771003985634, -71.05750633948047)</td>\n",
              "    </tr>\n",
              "    <tr>\n",
              "      <th>2</th>\n",
              "      <td>V596801</td>\n",
              "      <td>2022-01-27 11:55:50</td>\n",
              "      <td>Open</td>\n",
              "      <td>116</td>\n",
              "      <td>NaN</td>\n",
              "      <td>Unsafe Structures</td>\n",
              "      <td>750</td>\n",
              "      <td></td>\n",
              "      <td>Harrison</td>\n",
              "      <td>AVE</td>\n",
              "      <td>Roxbury</td>\n",
              "      <td>MA</td>\n",
              "      <td>02118</td>\n",
              "      <td>166046</td>\n",
              "      <td>42.336882</td>\n",
              "      <td>-71.072005</td>\n",
              "      <td>(42.33688186685794, -71.0720048429599)</td>\n",
              "    </tr>\n",
              "    <tr>\n",
              "      <th>3</th>\n",
              "      <td>V596606</td>\n",
              "      <td>2022-01-26 08:58:51</td>\n",
              "      <td>Open</td>\n",
              "      <td>102.8</td>\n",
              "      <td>NaN</td>\n",
              "      <td>Maintenance</td>\n",
              "      <td>8</td>\n",
              "      <td>NaN</td>\n",
              "      <td>Faunce</td>\n",
              "      <td>RD</td>\n",
              "      <td>Mattapan</td>\n",
              "      <td>MA</td>\n",
              "      <td>02126</td>\n",
              "      <td>56744</td>\n",
              "      <td>42.271040</td>\n",
              "      <td>-71.091310</td>\n",
              "      <td>(42.271039999637345, -71.09131000165604)</td>\n",
              "    </tr>\n",
              "    <tr>\n",
              "      <th>4</th>\n",
              "      <td>V596381</td>\n",
              "      <td>2022-01-24 11:24:34</td>\n",
              "      <td>Open</td>\n",
              "      <td>3307.1</td>\n",
              "      <td>NaN</td>\n",
              "      <td>Protection of Adj. Property</td>\n",
              "      <td>579</td>\n",
              "      <td>NaN</td>\n",
              "      <td>Bennington</td>\n",
              "      <td>ST</td>\n",
              "      <td>East Boston</td>\n",
              "      <td>MA</td>\n",
              "      <td>02128</td>\n",
              "      <td>14800</td>\n",
              "      <td>42.382608</td>\n",
              "      <td>-71.017793</td>\n",
              "      <td>(42.38260800024299, -71.01779300134898)</td>\n",
              "    </tr>\n",
              "  </tbody>\n",
              "</table>\n",
              "</div>\n",
              "      <button class=\"colab-df-convert\" onclick=\"convertToInteractive('df-8a57a4ce-e407-4770-b9df-195a3a67bd53')\"\n",
              "              title=\"Convert this dataframe to an interactive table.\"\n",
              "              style=\"display:none;\">\n",
              "        \n",
              "  <svg xmlns=\"http://www.w3.org/2000/svg\" height=\"24px\"viewBox=\"0 0 24 24\"\n",
              "       width=\"24px\">\n",
              "    <path d=\"M0 0h24v24H0V0z\" fill=\"none\"/>\n",
              "    <path d=\"M18.56 5.44l.94 2.06.94-2.06 2.06-.94-2.06-.94-.94-2.06-.94 2.06-2.06.94zm-11 1L8.5 8.5l.94-2.06 2.06-.94-2.06-.94L8.5 2.5l-.94 2.06-2.06.94zm10 10l.94 2.06.94-2.06 2.06-.94-2.06-.94-.94-2.06-.94 2.06-2.06.94z\"/><path d=\"M17.41 7.96l-1.37-1.37c-.4-.4-.92-.59-1.43-.59-.52 0-1.04.2-1.43.59L10.3 9.45l-7.72 7.72c-.78.78-.78 2.05 0 2.83L4 21.41c.39.39.9.59 1.41.59.51 0 1.02-.2 1.41-.59l7.78-7.78 2.81-2.81c.8-.78.8-2.07 0-2.86zM5.41 20L4 18.59l7.72-7.72 1.47 1.35L5.41 20z\"/>\n",
              "  </svg>\n",
              "      </button>\n",
              "      \n",
              "  <style>\n",
              "    .colab-df-container {\n",
              "      display:flex;\n",
              "      flex-wrap:wrap;\n",
              "      gap: 12px;\n",
              "    }\n",
              "\n",
              "    .colab-df-convert {\n",
              "      background-color: #E8F0FE;\n",
              "      border: none;\n",
              "      border-radius: 50%;\n",
              "      cursor: pointer;\n",
              "      display: none;\n",
              "      fill: #1967D2;\n",
              "      height: 32px;\n",
              "      padding: 0 0 0 0;\n",
              "      width: 32px;\n",
              "    }\n",
              "\n",
              "    .colab-df-convert:hover {\n",
              "      background-color: #E2EBFA;\n",
              "      box-shadow: 0px 1px 2px rgba(60, 64, 67, 0.3), 0px 1px 3px 1px rgba(60, 64, 67, 0.15);\n",
              "      fill: #174EA6;\n",
              "    }\n",
              "\n",
              "    [theme=dark] .colab-df-convert {\n",
              "      background-color: #3B4455;\n",
              "      fill: #D2E3FC;\n",
              "    }\n",
              "\n",
              "    [theme=dark] .colab-df-convert:hover {\n",
              "      background-color: #434B5C;\n",
              "      box-shadow: 0px 1px 3px 1px rgba(0, 0, 0, 0.15);\n",
              "      filter: drop-shadow(0px 1px 2px rgba(0, 0, 0, 0.3));\n",
              "      fill: #FFFFFF;\n",
              "    }\n",
              "  </style>\n",
              "\n",
              "      <script>\n",
              "        const buttonEl =\n",
              "          document.querySelector('#df-8a57a4ce-e407-4770-b9df-195a3a67bd53 button.colab-df-convert');\n",
              "        buttonEl.style.display =\n",
              "          google.colab.kernel.accessAllowed ? 'block' : 'none';\n",
              "\n",
              "        async function convertToInteractive(key) {\n",
              "          const element = document.querySelector('#df-8a57a4ce-e407-4770-b9df-195a3a67bd53');\n",
              "          const dataTable =\n",
              "            await google.colab.kernel.invokeFunction('convertToInteractive',\n",
              "                                                     [key], {});\n",
              "          if (!dataTable) return;\n",
              "\n",
              "          const docLinkHtml = 'Like what you see? Visit the ' +\n",
              "            '<a target=\"_blank\" href=https://colab.research.google.com/notebooks/data_table.ipynb>data table notebook</a>'\n",
              "            + ' to learn more about interactive tables.';\n",
              "          element.innerHTML = '';\n",
              "          dataTable['output_type'] = 'display_data';\n",
              "          await google.colab.output.renderOutput(dataTable, element);\n",
              "          const docLink = document.createElement('div');\n",
              "          docLink.innerHTML = docLinkHtml;\n",
              "          element.appendChild(docLink);\n",
              "        }\n",
              "      </script>\n",
              "    </div>\n",
              "  </div>\n",
              "  "
            ],
            "text/plain": [
              "  ticket_no  ...                                  location\n",
              "0   V596913  ...   (42.36562000046461, -71.05701000149027)\n",
              "1   V596873  ...   (42.35771003985634, -71.05750633948047)\n",
              "2   V596801  ...    (42.33688186685794, -71.0720048429599)\n",
              "3   V596606  ...  (42.271039999637345, -71.09131000165604)\n",
              "4   V596381  ...   (42.38260800024299, -71.01779300134898)\n",
              "\n",
              "[5 rows x 17 columns]"
            ]
          },
          "metadata": {},
          "execution_count": 57
        }
      ],
      "source": [
        "# examine the first few rows of data\n",
        "bostondata.head()"
      ]
    },
    {
      "cell_type": "markdown",
      "metadata": {
        "id": "452MBnBnkbWL"
      },
      "source": [
        "### Complete the notebook by adding:\n",
        "1) information on nulls in data<br>\n",
        "2) statistical information on relevant columns<br>\n",
        "3) three different visualizations using seaborn<br>\n",
        "4) final markdown explaining what you have learned about the dataset from the statistical analysis and visualizations<br>\n",
        "\n",
        "NOTE:  you can add additional code and markdown blocks\n"
      ]
    },
    {
      "cell_type": "code",
      "execution_count": 58,
      "metadata": {
        "colab": {
          "base_uri": "https://localhost:8080/"
        },
        "id": "9B0qBPLDkbWM",
        "outputId": "b3cf68ab-82df-462d-e0d1-5e5ed916b234"
      },
      "outputs": [
        {
          "output_type": "execute_result",
          "data": {
            "text/plain": [
              "ticket_no          0\n",
              "status_dttm        0\n",
              "status             0\n",
              "code               0\n",
              "value          20449\n",
              "description      221\n",
              "stno               0\n",
              "sthigh         15798\n",
              "street             0\n",
              "suffix           151\n",
              "city               1\n",
              "state              0\n",
              "zip                7\n",
              "sam_id             0\n",
              "latitude           0\n",
              "longitude          0\n",
              "location           0\n",
              "dtype: int64"
            ]
          },
          "metadata": {},
          "execution_count": 58
        }
      ],
      "source": [
        "#1 information on nulls\n",
        "bostondata.isna().sum()"
      ]
    },
    {
      "cell_type": "code",
      "source": [
        "#lets add a column - month - and make it numeric\n",
        "# we will use slice\n",
        "bostondata['month'] = bostondata['status_dttm'].str.slice(5,7)\n",
        "#one of the values is not null, but has spaces\n",
        "bostondata[\"month\"].replace({\"\": \"09\"}, inplace=True)\n",
        "# change the column type from object to int\n",
        "bostondata['month'] = pd.to_numeric(bostondata['month'])\n",
        "#lets see info on bostondata\n",
        "bostondata.info()"
      ],
      "metadata": {
        "colab": {
          "base_uri": "https://localhost:8080/"
        },
        "id": "Z2UQBMZ5ErVk",
        "outputId": "33cf337a-8bc0-45ee-f5d1-69be698f3eae"
      },
      "execution_count": 65,
      "outputs": [
        {
          "output_type": "stream",
          "name": "stdout",
          "text": [
            "<class 'pandas.core.frame.DataFrame'>\n",
            "RangeIndex: 20449 entries, 0 to 20448\n",
            "Data columns (total 18 columns):\n",
            " #   Column       Non-Null Count  Dtype  \n",
            "---  ------       --------------  -----  \n",
            " 0   ticket_no    20449 non-null  object \n",
            " 1   status_dttm  20449 non-null  object \n",
            " 2   status       20449 non-null  object \n",
            " 3   code         20449 non-null  object \n",
            " 4   value        0 non-null      float64\n",
            " 5   description  20228 non-null  object \n",
            " 6   stno         20449 non-null  object \n",
            " 7   sthigh       4651 non-null   object \n",
            " 8   street       20449 non-null  object \n",
            " 9   suffix       20298 non-null  object \n",
            " 10  city         20448 non-null  object \n",
            " 11  state        20449 non-null  object \n",
            " 12  zip          20442 non-null  object \n",
            " 13  sam_id       20449 non-null  int64  \n",
            " 14  latitude     20449 non-null  float64\n",
            " 15  longitude    20449 non-null  float64\n",
            " 16  location     20449 non-null  object \n",
            " 17  month        20449 non-null  int64  \n",
            "dtypes: float64(3), int64(2), object(13)\n",
            "memory usage: 2.8+ MB\n"
          ]
        }
      ]
    },
    {
      "cell_type": "code",
      "source": [
        "# lets get the value counts for our new column\n",
        "bostondata['month'].value_counts()"
      ],
      "metadata": {
        "colab": {
          "base_uri": "https://localhost:8080/"
        },
        "id": "TCTOb1koFW0z",
        "outputId": "db28f4d0-c42b-4176-b241-e3d72d9fb255"
      },
      "execution_count": 66,
      "outputs": [
        {
          "output_type": "execute_result",
          "data": {
            "text/plain": [
              "9     2387\n",
              "3     2030\n",
              "12    1887\n",
              "10    1769\n",
              "1     1731\n",
              "6     1612\n",
              "7     1604\n",
              "2     1567\n",
              "4     1499\n",
              "8     1497\n",
              "11    1453\n",
              "5     1413\n",
              "Name: month, dtype: int64"
            ]
          },
          "metadata": {},
          "execution_count": 66
        }
      ]
    },
    {
      "cell_type": "code",
      "execution_count": 67,
      "metadata": {
        "colab": {
          "base_uri": "https://localhost:8080/",
          "height": 300
        },
        "id": "-BdoU2pqkbWN",
        "outputId": "b7bcd1d1-793a-4cff-a5d5-ad0913feb523"
      },
      "outputs": [
        {
          "output_type": "execute_result",
          "data": {
            "text/html": [
              "\n",
              "  <div id=\"df-855fbcc4-f871-4e0b-9223-e8ad94ac0082\">\n",
              "    <div class=\"colab-df-container\">\n",
              "      <div>\n",
              "<style scoped>\n",
              "    .dataframe tbody tr th:only-of-type {\n",
              "        vertical-align: middle;\n",
              "    }\n",
              "\n",
              "    .dataframe tbody tr th {\n",
              "        vertical-align: top;\n",
              "    }\n",
              "\n",
              "    .dataframe thead th {\n",
              "        text-align: right;\n",
              "    }\n",
              "</style>\n",
              "<table border=\"1\" class=\"dataframe\">\n",
              "  <thead>\n",
              "    <tr style=\"text-align: right;\">\n",
              "      <th></th>\n",
              "      <th>value</th>\n",
              "      <th>sam_id</th>\n",
              "      <th>latitude</th>\n",
              "      <th>longitude</th>\n",
              "      <th>month</th>\n",
              "    </tr>\n",
              "  </thead>\n",
              "  <tbody>\n",
              "    <tr>\n",
              "      <th>count</th>\n",
              "      <td>0.0</td>\n",
              "      <td>20449.000000</td>\n",
              "      <td>20449.000000</td>\n",
              "      <td>20449.000000</td>\n",
              "      <td>20449.000000</td>\n",
              "    </tr>\n",
              "    <tr>\n",
              "      <th>mean</th>\n",
              "      <td>NaN</td>\n",
              "      <td>129811.121473</td>\n",
              "      <td>42.321722</td>\n",
              "      <td>-71.081802</td>\n",
              "      <td>6.586728</td>\n",
              "    </tr>\n",
              "    <tr>\n",
              "      <th>std</th>\n",
              "      <td>NaN</td>\n",
              "      <td>94120.102517</td>\n",
              "      <td>0.033608</td>\n",
              "      <td>0.032566</td>\n",
              "      <td>3.486942</td>\n",
              "    </tr>\n",
              "    <tr>\n",
              "      <th>min</th>\n",
              "      <td>NaN</td>\n",
              "      <td>22.000000</td>\n",
              "      <td>42.232100</td>\n",
              "      <td>-71.181830</td>\n",
              "      <td>1.000000</td>\n",
              "    </tr>\n",
              "    <tr>\n",
              "      <th>25%</th>\n",
              "      <td>NaN</td>\n",
              "      <td>59036.000000</td>\n",
              "      <td>42.295630</td>\n",
              "      <td>-71.096940</td>\n",
              "      <td>3.000000</td>\n",
              "    </tr>\n",
              "    <tr>\n",
              "      <th>50%</th>\n",
              "      <td>NaN</td>\n",
              "      <td>111082.000000</td>\n",
              "      <td>42.319550</td>\n",
              "      <td>-71.077960</td>\n",
              "      <td>7.000000</td>\n",
              "    </tr>\n",
              "    <tr>\n",
              "      <th>75%</th>\n",
              "      <td>NaN</td>\n",
              "      <td>167424.000000</td>\n",
              "      <td>42.349760</td>\n",
              "      <td>-71.060968</td>\n",
              "      <td>9.000000</td>\n",
              "    </tr>\n",
              "    <tr>\n",
              "      <th>max</th>\n",
              "      <td>NaN</td>\n",
              "      <td>441876.000000</td>\n",
              "      <td>42.392962</td>\n",
              "      <td>-70.997140</td>\n",
              "      <td>12.000000</td>\n",
              "    </tr>\n",
              "  </tbody>\n",
              "</table>\n",
              "</div>\n",
              "      <button class=\"colab-df-convert\" onclick=\"convertToInteractive('df-855fbcc4-f871-4e0b-9223-e8ad94ac0082')\"\n",
              "              title=\"Convert this dataframe to an interactive table.\"\n",
              "              style=\"display:none;\">\n",
              "        \n",
              "  <svg xmlns=\"http://www.w3.org/2000/svg\" height=\"24px\"viewBox=\"0 0 24 24\"\n",
              "       width=\"24px\">\n",
              "    <path d=\"M0 0h24v24H0V0z\" fill=\"none\"/>\n",
              "    <path d=\"M18.56 5.44l.94 2.06.94-2.06 2.06-.94-2.06-.94-.94-2.06-.94 2.06-2.06.94zm-11 1L8.5 8.5l.94-2.06 2.06-.94-2.06-.94L8.5 2.5l-.94 2.06-2.06.94zm10 10l.94 2.06.94-2.06 2.06-.94-2.06-.94-.94-2.06-.94 2.06-2.06.94z\"/><path d=\"M17.41 7.96l-1.37-1.37c-.4-.4-.92-.59-1.43-.59-.52 0-1.04.2-1.43.59L10.3 9.45l-7.72 7.72c-.78.78-.78 2.05 0 2.83L4 21.41c.39.39.9.59 1.41.59.51 0 1.02-.2 1.41-.59l7.78-7.78 2.81-2.81c.8-.78.8-2.07 0-2.86zM5.41 20L4 18.59l7.72-7.72 1.47 1.35L5.41 20z\"/>\n",
              "  </svg>\n",
              "      </button>\n",
              "      \n",
              "  <style>\n",
              "    .colab-df-container {\n",
              "      display:flex;\n",
              "      flex-wrap:wrap;\n",
              "      gap: 12px;\n",
              "    }\n",
              "\n",
              "    .colab-df-convert {\n",
              "      background-color: #E8F0FE;\n",
              "      border: none;\n",
              "      border-radius: 50%;\n",
              "      cursor: pointer;\n",
              "      display: none;\n",
              "      fill: #1967D2;\n",
              "      height: 32px;\n",
              "      padding: 0 0 0 0;\n",
              "      width: 32px;\n",
              "    }\n",
              "\n",
              "    .colab-df-convert:hover {\n",
              "      background-color: #E2EBFA;\n",
              "      box-shadow: 0px 1px 2px rgba(60, 64, 67, 0.3), 0px 1px 3px 1px rgba(60, 64, 67, 0.15);\n",
              "      fill: #174EA6;\n",
              "    }\n",
              "\n",
              "    [theme=dark] .colab-df-convert {\n",
              "      background-color: #3B4455;\n",
              "      fill: #D2E3FC;\n",
              "    }\n",
              "\n",
              "    [theme=dark] .colab-df-convert:hover {\n",
              "      background-color: #434B5C;\n",
              "      box-shadow: 0px 1px 3px 1px rgba(0, 0, 0, 0.15);\n",
              "      filter: drop-shadow(0px 1px 2px rgba(0, 0, 0, 0.3));\n",
              "      fill: #FFFFFF;\n",
              "    }\n",
              "  </style>\n",
              "\n",
              "      <script>\n",
              "        const buttonEl =\n",
              "          document.querySelector('#df-855fbcc4-f871-4e0b-9223-e8ad94ac0082 button.colab-df-convert');\n",
              "        buttonEl.style.display =\n",
              "          google.colab.kernel.accessAllowed ? 'block' : 'none';\n",
              "\n",
              "        async function convertToInteractive(key) {\n",
              "          const element = document.querySelector('#df-855fbcc4-f871-4e0b-9223-e8ad94ac0082');\n",
              "          const dataTable =\n",
              "            await google.colab.kernel.invokeFunction('convertToInteractive',\n",
              "                                                     [key], {});\n",
              "          if (!dataTable) return;\n",
              "\n",
              "          const docLinkHtml = 'Like what you see? Visit the ' +\n",
              "            '<a target=\"_blank\" href=https://colab.research.google.com/notebooks/data_table.ipynb>data table notebook</a>'\n",
              "            + ' to learn more about interactive tables.';\n",
              "          element.innerHTML = '';\n",
              "          dataTable['output_type'] = 'display_data';\n",
              "          await google.colab.output.renderOutput(dataTable, element);\n",
              "          const docLink = document.createElement('div');\n",
              "          docLink.innerHTML = docLinkHtml;\n",
              "          element.appendChild(docLink);\n",
              "        }\n",
              "      </script>\n",
              "    </div>\n",
              "  </div>\n",
              "  "
            ],
            "text/plain": [
              "       value         sam_id      latitude     longitude         month\n",
              "count    0.0   20449.000000  20449.000000  20449.000000  20449.000000\n",
              "mean     NaN  129811.121473     42.321722    -71.081802      6.586728\n",
              "std      NaN   94120.102517      0.033608      0.032566      3.486942\n",
              "min      NaN      22.000000     42.232100    -71.181830      1.000000\n",
              "25%      NaN   59036.000000     42.295630    -71.096940      3.000000\n",
              "50%      NaN  111082.000000     42.319550    -71.077960      7.000000\n",
              "75%      NaN  167424.000000     42.349760    -71.060968      9.000000\n",
              "max      NaN  441876.000000     42.392962    -70.997140     12.000000"
            ]
          },
          "metadata": {},
          "execution_count": 67
        }
      ],
      "source": [
        "#2 statistical information - the numerical data does not have relevant business meaning although lat and long do show an average location\n",
        "bostondata.describe()\n"
      ]
    },
    {
      "cell_type": "code",
      "source": [
        "#2 statistical information\n",
        "#lets see the counts of the categories in certain columns\n",
        "#we will start with description\n",
        "bostondata.description.value_counts()\n"
      ],
      "metadata": {
        "colab": {
          "base_uri": "https://localhost:8080/"
        },
        "id": "EVc7XgJRrcK2",
        "outputId": "266cd6d3-401a-4634-a86a-749a0c355b4a"
      },
      "execution_count": 73,
      "outputs": [
        {
          "output_type": "execute_result",
          "data": {
            "text/plain": [
              "Unsafe and Dangerous                                                                                                                                                                                                                    3400\n",
              "Failure to Obtain Permit                                                                                                                                                                                                                3192\n",
              "Owners Responsibility to Maintain Structural Elements - Structural elements  shall be maintained free from holes, cracks, loose plaster, or other defects.                                                                              1451\n",
              "Maintenance                                                                                                                                                                                                                             1002\n",
              "Owners Installation/Maintenance Responsibility - All facilities and equipment which are required by owner including but not limited to water, gas, electrical and heating, shall be installed in accordance with all accepted codes.     998\n",
              "                                                                                                                                                                                                                                        ... \n",
              "Int. Exit  Stairways & Ramps                                                                                                                                                                                                               1\n",
              "Walkways                                                                                                                                                                                                                                   1\n",
              "Side Yard Requirements                                                                                                                                                                                                                     1\n",
              "Abandoned Cable                                                                                                                                                                                                                            1\n",
              "Operational Constraints                                                                                                                                                                                                                    1\n",
              "Name: description, Length: 473, dtype: int64"
            ]
          },
          "metadata": {},
          "execution_count": 73
        }
      ]
    },
    {
      "cell_type": "code",
      "source": [
        "#2 statistical information\n",
        "# we can see the percentages\n",
        "bostondata.description.value_counts(normalize=True)\n",
        "#top six are of interest"
      ],
      "metadata": {
        "colab": {
          "base_uri": "https://localhost:8080/"
        },
        "id": "Vkbn013Rr9xz",
        "outputId": "759de82b-9b67-4175-8ffa-2571a853208b"
      },
      "execution_count": 74,
      "outputs": [
        {
          "output_type": "execute_result",
          "data": {
            "text/plain": [
              "Unsafe and Dangerous                                                                                                                                                                                                                    0.168084\n",
              "Failure to Obtain Permit                                                                                                                                                                                                                0.157801\n",
              "Owners Responsibility to Maintain Structural Elements - Structural elements  shall be maintained free from holes, cracks, loose plaster, or other defects.                                                                              0.071732\n",
              "Maintenance                                                                                                                                                                                                                             0.049535\n",
              "Owners Installation/Maintenance Responsibility - All facilities and equipment which are required by owner including but not limited to water, gas, electrical and heating, shall be installed in accordance with all accepted codes.    0.049338\n",
              "                                                                                                                                                                                                                                          ...   \n",
              "Int. Exit  Stairways & Ramps                                                                                                                                                                                                            0.000049\n",
              "Walkways                                                                                                                                                                                                                                0.000049\n",
              "Side Yard Requirements                                                                                                                                                                                                                  0.000049\n",
              "Abandoned Cable                                                                                                                                                                                                                         0.000049\n",
              "Operational Constraints                                                                                                                                                                                                                 0.000049\n",
              "Name: description, Length: 473, dtype: float64"
            ]
          },
          "metadata": {},
          "execution_count": 74
        }
      ]
    },
    {
      "cell_type": "code",
      "source": [
        "#bostondata_filtered = bostondata.query(\"description == 'Unsafe and Dangerous' |  description == 'Maintenance' | description = 'Failure to Obtain Permit'\")\n",
        "bostondata_filtered = bostondata[(bostondata.description == 'Unsafe and Dangerous') | (bostondata.description == 'Maintenance') | (bostondata.description == 'Failure to Obtain Permit')]"
      ],
      "metadata": {
        "id": "sQyJR5m_QjQe"
      },
      "execution_count": 94,
      "outputs": []
    },
    {
      "cell_type": "code",
      "source": [
        "bostondata_filtered.info()\n",
        "#we are down to 7594 entries and can now learn more about this one category"
      ],
      "metadata": {
        "colab": {
          "base_uri": "https://localhost:8080/"
        },
        "id": "2zb4DeBduI58",
        "outputId": "8fa85d44-04e7-4d7f-87c3-d002755dd25f"
      },
      "execution_count": 95,
      "outputs": [
        {
          "output_type": "stream",
          "name": "stdout",
          "text": [
            "<class 'pandas.core.frame.DataFrame'>\n",
            "Int64Index: 7594 entries, 1 to 20448\n",
            "Data columns (total 18 columns):\n",
            " #   Column       Non-Null Count  Dtype  \n",
            "---  ------       --------------  -----  \n",
            " 0   ticket_no    7594 non-null   object \n",
            " 1   status_dttm  7594 non-null   object \n",
            " 2   status       7594 non-null   object \n",
            " 3   code         7594 non-null   object \n",
            " 4   value        0 non-null      float64\n",
            " 5   description  7594 non-null   object \n",
            " 6   stno         7594 non-null   object \n",
            " 7   sthigh       2100 non-null   object \n",
            " 8   street       7594 non-null   object \n",
            " 9   suffix       7557 non-null   object \n",
            " 10  city         7594 non-null   object \n",
            " 11  state        7594 non-null   object \n",
            " 12  zip          7592 non-null   object \n",
            " 13  sam_id       7594 non-null   int64  \n",
            " 14  latitude     7594 non-null   float64\n",
            " 15  longitude    7594 non-null   float64\n",
            " 16  location     7594 non-null   object \n",
            " 17  month        7594 non-null   int64  \n",
            "dtypes: float64(3), int64(2), object(13)\n",
            "memory usage: 1.1+ MB\n"
          ]
        }
      ]
    },
    {
      "cell_type": "code",
      "source": [
        "#3 seaborn viz 1\n",
        "# value counts can be useful\n",
        "#lets look at the value counts by city and street\n",
        "bostondata_filtered.groupby([\"city\", \"street\"])[\"description\"].value_counts().unstack(\"description\").fillna(0)"
      ],
      "metadata": {
        "colab": {
          "base_uri": "https://localhost:8080/",
          "height": 455
        },
        "id": "P1cCrxR2pbkh",
        "outputId": "7ff8950b-1cd4-42c3-fa67-0c2fcd90dde0"
      },
      "execution_count": 96,
      "outputs": [
        {
          "output_type": "execute_result",
          "data": {
            "text/html": [
              "\n",
              "  <div id=\"df-74bec677-1819-49a6-a7af-1d1c17f0851b\">\n",
              "    <div class=\"colab-df-container\">\n",
              "      <div>\n",
              "<style scoped>\n",
              "    .dataframe tbody tr th:only-of-type {\n",
              "        vertical-align: middle;\n",
              "    }\n",
              "\n",
              "    .dataframe tbody tr th {\n",
              "        vertical-align: top;\n",
              "    }\n",
              "\n",
              "    .dataframe thead th {\n",
              "        text-align: right;\n",
              "    }\n",
              "</style>\n",
              "<table border=\"1\" class=\"dataframe\">\n",
              "  <thead>\n",
              "    <tr style=\"text-align: right;\">\n",
              "      <th></th>\n",
              "      <th>description</th>\n",
              "      <th>Failure to Obtain Permit</th>\n",
              "      <th>Maintenance</th>\n",
              "      <th>Unsafe and Dangerous</th>\n",
              "    </tr>\n",
              "    <tr>\n",
              "      <th>city</th>\n",
              "      <th>street</th>\n",
              "      <th></th>\n",
              "      <th></th>\n",
              "      <th></th>\n",
              "    </tr>\n",
              "  </thead>\n",
              "  <tbody>\n",
              "    <tr>\n",
              "      <th rowspan=\"5\" valign=\"top\">Allston</th>\n",
              "      <th>Adamson</th>\n",
              "      <td>1.0</td>\n",
              "      <td>0.0</td>\n",
              "      <td>2.0</td>\n",
              "    </tr>\n",
              "    <tr>\n",
              "      <th>Alcott</th>\n",
              "      <td>1.0</td>\n",
              "      <td>1.0</td>\n",
              "      <td>1.0</td>\n",
              "    </tr>\n",
              "    <tr>\n",
              "      <th>Aldie</th>\n",
              "      <td>1.0</td>\n",
              "      <td>0.0</td>\n",
              "      <td>1.0</td>\n",
              "    </tr>\n",
              "    <tr>\n",
              "      <th>Allston</th>\n",
              "      <td>5.0</td>\n",
              "      <td>0.0</td>\n",
              "      <td>0.0</td>\n",
              "    </tr>\n",
              "    <tr>\n",
              "      <th>Appian</th>\n",
              "      <td>1.0</td>\n",
              "      <td>0.0</td>\n",
              "      <td>0.0</td>\n",
              "    </tr>\n",
              "    <tr>\n",
              "      <th>...</th>\n",
              "      <th>...</th>\n",
              "      <td>...</td>\n",
              "      <td>...</td>\n",
              "      <td>...</td>\n",
              "    </tr>\n",
              "    <tr>\n",
              "      <th rowspan=\"5\" valign=\"top\">West Roxbury</th>\n",
              "      <th>Woodley</th>\n",
              "      <td>0.0</td>\n",
              "      <td>1.0</td>\n",
              "      <td>0.0</td>\n",
              "    </tr>\n",
              "    <tr>\n",
              "      <th>Worley</th>\n",
              "      <td>1.0</td>\n",
              "      <td>0.0</td>\n",
              "      <td>0.0</td>\n",
              "    </tr>\n",
              "    <tr>\n",
              "      <th>Wren</th>\n",
              "      <td>0.0</td>\n",
              "      <td>0.0</td>\n",
              "      <td>1.0</td>\n",
              "    </tr>\n",
              "    <tr>\n",
              "      <th>Wycliff</th>\n",
              "      <td>1.0</td>\n",
              "      <td>0.0</td>\n",
              "      <td>0.0</td>\n",
              "    </tr>\n",
              "    <tr>\n",
              "      <th>Yorktown</th>\n",
              "      <td>1.0</td>\n",
              "      <td>0.0</td>\n",
              "      <td>0.0</td>\n",
              "    </tr>\n",
              "  </tbody>\n",
              "</table>\n",
              "<p>1712 rows × 3 columns</p>\n",
              "</div>\n",
              "      <button class=\"colab-df-convert\" onclick=\"convertToInteractive('df-74bec677-1819-49a6-a7af-1d1c17f0851b')\"\n",
              "              title=\"Convert this dataframe to an interactive table.\"\n",
              "              style=\"display:none;\">\n",
              "        \n",
              "  <svg xmlns=\"http://www.w3.org/2000/svg\" height=\"24px\"viewBox=\"0 0 24 24\"\n",
              "       width=\"24px\">\n",
              "    <path d=\"M0 0h24v24H0V0z\" fill=\"none\"/>\n",
              "    <path d=\"M18.56 5.44l.94 2.06.94-2.06 2.06-.94-2.06-.94-.94-2.06-.94 2.06-2.06.94zm-11 1L8.5 8.5l.94-2.06 2.06-.94-2.06-.94L8.5 2.5l-.94 2.06-2.06.94zm10 10l.94 2.06.94-2.06 2.06-.94-2.06-.94-.94-2.06-.94 2.06-2.06.94z\"/><path d=\"M17.41 7.96l-1.37-1.37c-.4-.4-.92-.59-1.43-.59-.52 0-1.04.2-1.43.59L10.3 9.45l-7.72 7.72c-.78.78-.78 2.05 0 2.83L4 21.41c.39.39.9.59 1.41.59.51 0 1.02-.2 1.41-.59l7.78-7.78 2.81-2.81c.8-.78.8-2.07 0-2.86zM5.41 20L4 18.59l7.72-7.72 1.47 1.35L5.41 20z\"/>\n",
              "  </svg>\n",
              "      </button>\n",
              "      \n",
              "  <style>\n",
              "    .colab-df-container {\n",
              "      display:flex;\n",
              "      flex-wrap:wrap;\n",
              "      gap: 12px;\n",
              "    }\n",
              "\n",
              "    .colab-df-convert {\n",
              "      background-color: #E8F0FE;\n",
              "      border: none;\n",
              "      border-radius: 50%;\n",
              "      cursor: pointer;\n",
              "      display: none;\n",
              "      fill: #1967D2;\n",
              "      height: 32px;\n",
              "      padding: 0 0 0 0;\n",
              "      width: 32px;\n",
              "    }\n",
              "\n",
              "    .colab-df-convert:hover {\n",
              "      background-color: #E2EBFA;\n",
              "      box-shadow: 0px 1px 2px rgba(60, 64, 67, 0.3), 0px 1px 3px 1px rgba(60, 64, 67, 0.15);\n",
              "      fill: #174EA6;\n",
              "    }\n",
              "\n",
              "    [theme=dark] .colab-df-convert {\n",
              "      background-color: #3B4455;\n",
              "      fill: #D2E3FC;\n",
              "    }\n",
              "\n",
              "    [theme=dark] .colab-df-convert:hover {\n",
              "      background-color: #434B5C;\n",
              "      box-shadow: 0px 1px 3px 1px rgba(0, 0, 0, 0.15);\n",
              "      filter: drop-shadow(0px 1px 2px rgba(0, 0, 0, 0.3));\n",
              "      fill: #FFFFFF;\n",
              "    }\n",
              "  </style>\n",
              "\n",
              "      <script>\n",
              "        const buttonEl =\n",
              "          document.querySelector('#df-74bec677-1819-49a6-a7af-1d1c17f0851b button.colab-df-convert');\n",
              "        buttonEl.style.display =\n",
              "          google.colab.kernel.accessAllowed ? 'block' : 'none';\n",
              "\n",
              "        async function convertToInteractive(key) {\n",
              "          const element = document.querySelector('#df-74bec677-1819-49a6-a7af-1d1c17f0851b');\n",
              "          const dataTable =\n",
              "            await google.colab.kernel.invokeFunction('convertToInteractive',\n",
              "                                                     [key], {});\n",
              "          if (!dataTable) return;\n",
              "\n",
              "          const docLinkHtml = 'Like what you see? Visit the ' +\n",
              "            '<a target=\"_blank\" href=https://colab.research.google.com/notebooks/data_table.ipynb>data table notebook</a>'\n",
              "            + ' to learn more about interactive tables.';\n",
              "          element.innerHTML = '';\n",
              "          dataTable['output_type'] = 'display_data';\n",
              "          await google.colab.output.renderOutput(dataTable, element);\n",
              "          const docLink = document.createElement('div');\n",
              "          docLink.innerHTML = docLinkHtml;\n",
              "          element.appendChild(docLink);\n",
              "        }\n",
              "      </script>\n",
              "    </div>\n",
              "  </div>\n",
              "  "
            ],
            "text/plain": [
              "description            Failure to Obtain Permit  ...  Unsafe and Dangerous\n",
              "city         street                              ...                      \n",
              "Allston      Adamson                        1.0  ...                   2.0\n",
              "             Alcott                         1.0  ...                   1.0\n",
              "             Aldie                          1.0  ...                   1.0\n",
              "             Allston                        5.0  ...                   0.0\n",
              "             Appian                         1.0  ...                   0.0\n",
              "...                                         ...  ...                   ...\n",
              "West Roxbury Woodley                        0.0  ...                   0.0\n",
              "             Worley                         1.0  ...                   0.0\n",
              "             Wren                           0.0  ...                   1.0\n",
              "             Wycliff                        1.0  ...                   0.0\n",
              "             Yorktown                       1.0  ...                   0.0\n",
              "\n",
              "[1712 rows x 3 columns]"
            ]
          },
          "metadata": {},
          "execution_count": 96
        }
      ]
    },
    {
      "cell_type": "code",
      "source": [
        ""
      ],
      "metadata": {
        "id": "uRpvJ1JfARpg"
      },
      "execution_count": null,
      "outputs": []
    },
    {
      "cell_type": "code",
      "execution_count": 97,
      "metadata": {
        "colab": {
          "base_uri": "https://localhost:8080/",
          "height": 285
        },
        "id": "Rhvko7lSkbWP",
        "outputId": "d2465744-a71f-45f4-a95a-a5c026799ceb"
      },
      "outputs": [
        {
          "output_type": "display_data",
          "data": {
            "image/png": "[encoded data removed]",
            "text/plain": [
              "<Figure size 432x288 with 1 Axes>"
            ]
          },
          "metadata": {}
        }
      ],
      "source": [
        "#4 seaborn viz 2\n",
        "# count plots are good for visualizatioin of categorical data\n",
        "sns.set_theme(style=\"darkgrid\")\n",
        "viz2 = sns.countplot(x=\"month\", data=bostondata_filtered)"
      ]
    },
    {
      "cell_type": "code",
      "source": [
        "#4 seaborn viz 3\n",
        "# count plots are good for visualizatioin of categorical data\n",
        "sns.set_theme(style=\"darkgrid\")\n",
        "viz2 = sns.countplot(x=\"description\", data=bostondata_filtered)"
      ],
      "metadata": {
        "colab": {
          "base_uri": "https://localhost:8080/",
          "height": 285
        },
        "id": "f_9TA9heTMcr",
        "outputId": "a6eb16da-3285-4bb8-89f9-075fd26abe9c"
      },
      "execution_count": 98,
      "outputs": [
        {
          "output_type": "display_data",
          "data": {
            "image/png": "[encoded data removed]",
            "text/plain": [
              "<Figure size 432x288 with 1 Axes>"
            ]
          },
          "metadata": {}
        }
      ]
    },
    {
      "cell_type": "code",
      "execution_count": 99,
      "metadata": {
        "colab": {
          "base_uri": "https://localhost:8080/",
          "height": 286
        },
        "id": "4gg68ytKkbWQ",
        "outputId": "4b761569-309f-412f-a31f-6f39c6da5a9e"
      },
      "outputs": [
        {
          "output_type": "display_data",
          "data": {
            "image/png": "[encoded data removed]",
            "text/plain": [
              "<Figure size 432x288 with 1 Axes>"
            ]
          },
          "metadata": {}
        }
      ],
      "source": [
        "#5 seaborn viz 4\n",
        "viz3 = sns.countplot(x=\"month\", hue=\"description\", data=bostondata_filtered)"
      ]
    },
    {
      "cell_type": "markdown",
      "metadata": {
        "id": "6sBVB5g4kbWQ"
      },
      "source": [
        "### What has been learned from Exploratory Data Analysis\n"
      ]
    },
    {
      "cell_type": "markdown",
      "metadata": {
        "id": "KUUAZGRWkbWR"
      },
      "source": [
        ""
      ]
    }
  ],
  "metadata": {
    "kernelspec": {
      "display_name": "Python 3",
      "language": "python",
      "name": "python3"
    },
    "language_info": {
      "codemirror_mode": {
        "name": "ipython",
        "version": 3
      },
      "file_extension": ".py",
      "mimetype": "text/x-python",
      "name": "python",
      "nbconvert_exporter": "python",
      "pygments_lexer": "ipython3",
      "version": "3.6.5"
    },
    "colab": {
      "name": "ChallengeLabDataViz.ipynb",
      "provenance": [],
      "include_colab_link": true
    }
  },
  "nbformat": 4,
  "nbformat_minor": 0
}